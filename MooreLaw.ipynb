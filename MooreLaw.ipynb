{
 "cells": [
  {
   "cell_type": "markdown",
   "id": "9c7ff5d0-fb80-4299-aaa6-7d66567a60c9",
   "metadata": {},
   "source": [
    "## Moore's law is the observation that the number of transistors in an integrated circuit (IC) doubles about every two years."
   ]
  },
  {
   "cell_type": "code",
   "execution_count": null,
   "id": "a0667962",
   "metadata": {},
   "outputs": [],
   "source": [
    "import pandas as pd \n",
    "import numpy as np\n",
    "import seaborn as sns\n",
    "import matplotlib.pyplot as plt\n",
    "%matplotlib inline"
   ]
  },
  {
   "cell_type": "code",
   "execution_count": null,
   "id": "2e916257",
   "metadata": {},
   "outputs": [],
   "source": [
    "df=pd.read_csv('moore.csv',header=None).values"
   ]
  },
  {
   "cell_type": "code",
   "execution_count": null,
   "id": "d1cae441",
   "metadata": {},
   "outputs": [],
   "source": [
    "#df.columns=['year','transistors']"
   ]
  },
  {
   "cell_type": "code",
   "execution_count": null,
   "id": "957ffd79",
   "metadata": {},
   "outputs": [
    {
     "data": {
      "text/plain": [
       "array([[       1971,        2300],\n",
       "       [       1972,        3500],\n",
       "       [       1973,        2500],\n",
       "       [       1973,        2500],\n",
       "       [       1974,        4100],\n",
       "       [       1974,        4500],\n",
       "       [       1974,        8000],\n",
       "       [       1975,        3510],\n",
       "       [       1976,        5000],\n",
       "       [       1976,        8500],\n",
       "       [       1976,        6500],\n",
       "       [       1978,        9000],\n",
       "       [       1978,       29000],\n",
       "       [       1979,       17500],\n",
       "       [       1979,       29000],\n",
       "       [       1979,       68000],\n",
       "       [       1981,       11500],\n",
       "       [       1982,       55000],\n",
       "       [       1982,      134000],\n",
       "       [       1983,       22000],\n",
       "       [       1984,       63000],\n",
       "       [       1984,      190000],\n",
       "       [       1985,      275000],\n",
       "       [       1985,       25000],\n",
       "       [       1985,       16000],\n",
       "       [       1986,      110000],\n",
       "       [       1986,      375000],\n",
       "       [       1986,       30000],\n",
       "       [       1987,      385000],\n",
       "       [       1987,      730000],\n",
       "       [       1987,      273000],\n",
       "       [       1987,      553000],\n",
       "       [       1988,      180000],\n",
       "       [       1988,      250000],\n",
       "       [       1989,      600000],\n",
       "       [       1989,     1000000],\n",
       "       [       1989,     1180235],\n",
       "       [       1989,      310000],\n",
       "       [       1990,     1200000],\n",
       "       [       1991,     1350000],\n",
       "       [       1991,       35000],\n",
       "       [       1992,      600000],\n",
       "       [       1992,      900000],\n",
       "       [       1993,     2800000],\n",
       "       [       1993,     3100000],\n",
       "       [       1994,      578977],\n",
       "       [       1994,     2500000],\n",
       "       [       1995,     2500000],\n",
       "       [       1999,      111000],\n",
       "       [       1995,     5500000],\n",
       "       [       1996,     4300000],\n",
       "       [       1997,    10000000],\n",
       "       [       1997,     7500000],\n",
       "       [       1997,     8800000],\n",
       "       [       1998,     7500000],\n",
       "       [       1999,     9500000],\n",
       "       [       1999,    13500000],\n",
       "       [       2000,    21000000],\n",
       "       [       2000,    21000000],\n",
       "       [       1999,    27400000],\n",
       "       [       1999,    21300000],\n",
       "       [       1999,    22000000],\n",
       "       [       2000,    42000000],\n",
       "       [       2001,   191000000],\n",
       "       [       2001,    45000000],\n",
       "       [       2002,    55000000],\n",
       "       [       2004,   112000000],\n",
       "       [       2004,   400000000],\n",
       "       [       2005,   169000000],\n",
       "       [       2006,   184000000],\n",
       "       [       2005,   228000000],\n",
       "       [       2006,   362000000],\n",
       "       [       2007,   540000000],\n",
       "       [       2008,    47000000],\n",
       "       [       2003,    54300000],\n",
       "       [       2003,   105900000],\n",
       "       [       2002,   220000000],\n",
       "       [       2005,   165000000],\n",
       "       [       2005,   250000000],\n",
       "       [       2006,   291000000],\n",
       "       [       2007,   169000000],\n",
       "       [       2003,   410000000],\n",
       "       [       2008,   600000000],\n",
       "       [       2009,   760000000],\n",
       "       [       2011,  1870000000],\n",
       "       [       2012,   432000000],\n",
       "       [       2007,   463000000],\n",
       "       [       2007,    26000000],\n",
       "       [       2008,   230000000],\n",
       "       [       2004,   592000000],\n",
       "       [       2007,   411000000],\n",
       "       [       2008,   731000000],\n",
       "       [       2008,   758000000],\n",
       "       [       2007,   789000000],\n",
       "       [       2009,   904000000],\n",
       "       [       2010,  1000000000],\n",
       "       [       2012,  2990000000],\n",
       "       [       2013,  1000000000],\n",
       "       [       2011,  1160000000],\n",
       "       [       2010,  1170000000],\n",
       "       [       2010,  1200000000],\n",
       "       [       2012,  1200000000],\n",
       "       [       2012,  1303000000],\n",
       "       [       2010,  1400000000],\n",
       "       [       2012,  1400000000],\n",
       "       [       2014,  1400000000],\n",
       "       [       2006,  1700000000],\n",
       "       [       2015,  1750000000],\n",
       "       [       2013,  1860000000],\n",
       "       [       2015,  1900000000],\n",
       "       [       2008,  1900000000],\n",
       "       [       2010,  2000000000],\n",
       "       [       2014,  2000000000],\n",
       "       [       2015,  2000000000],\n",
       "       [       2015,  3000000000],\n",
       "       [       2012,  2100000000],\n",
       "       [       2011,  2270000000],\n",
       "       [       2010,  2300000000],\n",
       "       [       2014,  2600000000],\n",
       "       [       2011,  2600000000],\n",
       "       [       2012,  2750000000],\n",
       "       [       2014,  3000000000],\n",
       "       [       2016,  3000000000],\n",
       "       [       2017,  5300000000],\n",
       "       [       2017,  5300000000],\n",
       "       [       2018,  8500000000],\n",
       "       [       2012,  3100000000],\n",
       "       [       2016,  3200000000],\n",
       "       [       2016,  3300000000],\n",
       "       [       2015,  3990000000],\n",
       "       [       2013,  4200000000],\n",
       "       [       2017,  4300000000],\n",
       "       [       2014,  4310000000],\n",
       "       [       2017,  4800000000],\n",
       "       [       2017,  4800000000],\n",
       "       [       2017,  4800000000],\n",
       "       [       2012,  5000000000],\n",
       "       [       2013,  5000000000],\n",
       "       [       2014,  5560000000],\n",
       "       [       2017,  6100000000],\n",
       "       [       2018,  6900000000],\n",
       "       [       2016,  4000000000],\n",
       "       [       2018,  6900000000],\n",
       "       [       2017,  5500000000],\n",
       "       [       2018,  5500000000],\n",
       "       [       2017,  7000000000],\n",
       "       [       2015,  7100000000],\n",
       "       [       2017,  8000000000],\n",
       "       [       2016,  7200000000],\n",
       "       [       2017,  8000000000],\n",
       "       [       2016,  8000000000],\n",
       "       [       2017,  9700000000],\n",
       "       [       2017,   250000000],\n",
       "       [       2015, 10000000000],\n",
       "       [       2017,  5450000000],\n",
       "       [       2018, 10000000000],\n",
       "       [       2017,  4300000000],\n",
       "       [       2017, 18000000000],\n",
       "       [       2017, 19200000000],\n",
       "       [       2018,  8876000000],\n",
       "       [       2018, 23600000000],\n",
       "       [       2018,  9000000000]], dtype=int64)"
      ]
     },
     "execution_count": 4,
     "metadata": {},
     "output_type": "execute_result"
    }
   ],
   "source": [
    "df"
   ]
  },
  {
   "cell_type": "code",
   "execution_count": null,
   "id": "000dc555",
   "metadata": {},
   "outputs": [],
   "source": [
    "from sklearn.model_selection import train_test_split"
   ]
  },
  {
   "cell_type": "code",
   "execution_count": null,
   "id": "9f6d1740",
   "metadata": {},
   "outputs": [
    {
     "data": {
      "text/plain": [
       "array([1971, 1972, 1973, 1973, 1974, 1974, 1974, 1975, 1976, 1976, 1976,\n",
       "       1978, 1978, 1979, 1979, 1979, 1981, 1982, 1982, 1983, 1984, 1984,\n",
       "       1985, 1985, 1985, 1986, 1986, 1986, 1987, 1987, 1987, 1987, 1988,\n",
       "       1988, 1989, 1989, 1989, 1989, 1990, 1991, 1991, 1992, 1992, 1993,\n",
       "       1993, 1994, 1994, 1995, 1999, 1995, 1996, 1997, 1997, 1997, 1998,\n",
       "       1999, 1999, 2000, 2000, 1999, 1999, 1999, 2000, 2001, 2001, 2002,\n",
       "       2004, 2004, 2005, 2006, 2005, 2006, 2007, 2008, 2003, 2003, 2002,\n",
       "       2005, 2005, 2006, 2007, 2003, 2008, 2009, 2011, 2012, 2007, 2007,\n",
       "       2008, 2004, 2007, 2008, 2008, 2007, 2009, 2010, 2012, 2013, 2011,\n",
       "       2010, 2010, 2012, 2012, 2010, 2012, 2014, 2006, 2015, 2013, 2015,\n",
       "       2008, 2010, 2014, 2015, 2015, 2012, 2011, 2010, 2014, 2011, 2012,\n",
       "       2014, 2016, 2017, 2017, 2018, 2012, 2016, 2016, 2015, 2013, 2017,\n",
       "       2014, 2017, 2017, 2017, 2012, 2013, 2014, 2017, 2018, 2016, 2018,\n",
       "       2017, 2018, 2017, 2015, 2017, 2016, 2017, 2016, 2017, 2017, 2015,\n",
       "       2017, 2018, 2017, 2017, 2017, 2018, 2018, 2018], dtype=int64)"
      ]
     },
     "execution_count": 6,
     "metadata": {},
     "output_type": "execute_result"
    }
   ],
   "source": [
    "df[:,0]"
   ]
  },
  {
   "cell_type": "code",
   "execution_count": null,
   "id": "115c5000",
   "metadata": {},
   "outputs": [
    {
     "data": {
      "text/plain": [
       "array([       2300,        3500,        2500,        2500,        4100,\n",
       "              4500,        8000,        3510,        5000,        8500,\n",
       "              6500,        9000,       29000,       17500,       29000,\n",
       "             68000,       11500,       55000,      134000,       22000,\n",
       "             63000,      190000,      275000,       25000,       16000,\n",
       "            110000,      375000,       30000,      385000,      730000,\n",
       "            273000,      553000,      180000,      250000,      600000,\n",
       "           1000000,     1180235,      310000,     1200000,     1350000,\n",
       "             35000,      600000,      900000,     2800000,     3100000,\n",
       "            578977,     2500000,     2500000,      111000,     5500000,\n",
       "           4300000,    10000000,     7500000,     8800000,     7500000,\n",
       "           9500000,    13500000,    21000000,    21000000,    27400000,\n",
       "          21300000,    22000000,    42000000,   191000000,    45000000,\n",
       "          55000000,   112000000,   400000000,   169000000,   184000000,\n",
       "         228000000,   362000000,   540000000,    47000000,    54300000,\n",
       "         105900000,   220000000,   165000000,   250000000,   291000000,\n",
       "         169000000,   410000000,   600000000,   760000000,  1870000000,\n",
       "         432000000,   463000000,    26000000,   230000000,   592000000,\n",
       "         411000000,   731000000,   758000000,   789000000,   904000000,\n",
       "        1000000000,  2990000000,  1000000000,  1160000000,  1170000000,\n",
       "        1200000000,  1200000000,  1303000000,  1400000000,  1400000000,\n",
       "        1400000000,  1700000000,  1750000000,  1860000000,  1900000000,\n",
       "        1900000000,  2000000000,  2000000000,  2000000000,  3000000000,\n",
       "        2100000000,  2270000000,  2300000000,  2600000000,  2600000000,\n",
       "        2750000000,  3000000000,  3000000000,  5300000000,  5300000000,\n",
       "        8500000000,  3100000000,  3200000000,  3300000000,  3990000000,\n",
       "        4200000000,  4300000000,  4310000000,  4800000000,  4800000000,\n",
       "        4800000000,  5000000000,  5000000000,  5560000000,  6100000000,\n",
       "        6900000000,  4000000000,  6900000000,  5500000000,  5500000000,\n",
       "        7000000000,  7100000000,  8000000000,  7200000000,  8000000000,\n",
       "        8000000000,  9700000000,   250000000, 10000000000,  5450000000,\n",
       "       10000000000,  4300000000, 18000000000, 19200000000,  8876000000,\n",
       "       23600000000,  9000000000], dtype=int64)"
      ]
     },
     "execution_count": 7,
     "metadata": {},
     "output_type": "execute_result"
    }
   ],
   "source": [
    "df[:,1]"
   ]
  },
  {
   "cell_type": "code",
   "execution_count": null,
   "id": "a9235354",
   "metadata": {},
   "outputs": [
    {
     "data": {
      "text/plain": [
       "162"
      ]
     },
     "execution_count": 8,
     "metadata": {},
     "output_type": "execute_result"
    }
   ],
   "source": [
    "len(df)"
   ]
  },
  {
   "cell_type": "code",
   "execution_count": null,
   "id": "4578cef9",
   "metadata": {},
   "outputs": [],
   "source": [
    "X=df[:,0].reshape(-1,1)\n",
    "y=df[:,1]"
   ]
  },
  {
   "cell_type": "code",
   "execution_count": null,
   "id": "f9927edf",
   "metadata": {},
   "outputs": [
    {
     "data": {
      "text/plain": [
       "<matplotlib.collections.PathCollection at 0x1a8f3755390>"
      ]
     },
     "execution_count": 10,
     "metadata": {},
     "output_type": "execute_result"
    },
    {
     "data": {
      "image/png": "[encoded data removed]",
      "text/plain": [
       "<Figure size 1000x600 with 1 Axes>"
      ]
     },
     "metadata": {},
     "output_type": "display_data"
    }
   ],
   "source": [
    "plt.figure(figsize=(10,6))\n",
    "plt.scatter(X,y)"
   ]
  },
  {
   "cell_type": "markdown",
   "id": "a4f72942",
   "metadata": {},
   "source": [
    "## Since we wanted a linear model for moores law for linear regression we will take log."
   ]
  },
  {
   "cell_type": "code",
   "execution_count": null,
   "id": "a8bf67c0",
   "metadata": {},
   "outputs": [],
   "source": [
    "y=np.log(y)"
   ]
  },
  {
   "cell_type": "code",
   "execution_count": null,
   "id": "c69effed",
   "metadata": {},
   "outputs": [
    {
     "name": "stdout",
     "output_type": "stream",
     "text": [
      "[ 7.7406644   8.16051825  7.82404601  7.82404601  8.31874225  8.41183268\n",
      "  8.98719682  8.16337132  8.51719319  9.04782144  8.77955746  9.10497986\n",
      " 10.27505111  9.76995616 10.27505111 11.12726298  9.35010231 10.91508846\n",
      " 11.80559508  9.99879773 11.05089001 12.15477935 12.52452638 10.1266311\n",
      "  9.680344   11.60823564 12.8346813  10.30895266 12.86099861 13.50079981\n",
      " 12.51722707 13.22311328 12.10071213 12.4292162  13.30468493 13.81551056\n",
      " 13.98122413 12.64432758 13.99783211 14.11561515 10.46310334 13.30468493\n",
      " 13.71015004 14.84512998 14.94691267 13.26901803 14.73180129 14.73180129\n",
      " 11.61728548 15.52025865 15.27412558 16.11809565 15.83041358 15.99026228\n",
      " 15.83041358 16.06680236 16.41820024 16.860033   16.860033   17.12605357\n",
      " 16.87421763 16.90655301 17.55318018 19.06778399 17.62217305 17.82284374\n",
      " 18.53400943 19.80697511 18.94540927 19.03044632 19.24485619 19.70715477\n",
      " 20.1070797  17.66565816 17.81003478 18.47800581 19.2091381  18.92145603\n",
      " 19.33697148 19.48883383 18.94540927 19.83166772 20.21244021 20.44882899\n",
      " 21.34920427 19.88393615 19.95323761 17.0736071  19.25358987 20.19901719\n",
      " 19.83410377 20.40992402 20.44619394 20.48627688 20.62233992 20.72326584\n",
      " 21.81853922 20.72326584 20.87168584 20.88026959 20.90558739 20.90558739\n",
      " 20.98793514 21.05973807 21.05973807 21.05973807 21.25389409 21.28288162\n",
      " 21.34384232 21.36511972 21.36511972 21.41641302 21.41641302 21.41641302\n",
      " 21.82187813 21.46520318 21.54304567 21.55617496 21.67877728 21.67877728\n",
      " 21.73486675 21.82187813 21.82187813 22.39097266 22.39097266 22.863332\n",
      " 21.85466795 21.88641665 21.91718831 22.10705707 22.15835036 22.18188086\n",
      " 22.18420374 22.29188175 22.29188175 22.29188175 22.33270375 22.33270375\n",
      " 22.43886395 22.53155461 22.65478725 22.1095602  22.65478725 22.42801393\n",
      " 22.42801393 22.66917599 22.68336062 22.80270738 22.69734686 22.80270738\n",
      " 22.80270738 22.99539172 19.33697148 23.02585093 22.41888145 23.02585093\n",
      " 22.18188086 23.61363759 23.67817612 22.90661684 23.88451255 22.92049041]\n"
     ]
    }
   ],
   "source": [
    "print(y)"
   ]
  },
  {
   "cell_type": "code",
   "execution_count": null,
   "id": "4b57b0dc",
   "metadata": {},
   "outputs": [
    {
     "data": {
      "text/plain": [
       "<matplotlib.collections.PathCollection at 0x1a8f3e2d7e0>"
      ]
     },
     "execution_count": 13,
     "metadata": {},
     "output_type": "execute_result"
    },
    {
     "data": {
      "image/png": "[encoded data removed]",
      "text/plain": [
       "<Figure size 1000x600 with 1 Axes>"
      ]
     },
     "metadata": {},
     "output_type": "display_data"
    }
   ],
   "source": [
    "plt.figure(figsize=(10,6))\n",
    "plt.scatter(X,y)"
   ]
  },
  {
   "cell_type": "markdown",
   "id": "f1ea1cd9",
   "metadata": {},
   "source": [
    "## lets center the X also so that it is not to large\n",
    "## we could also scale X but we have to reverse the transformation later on"
   ]
  },
  {
   "cell_type": "code",
   "execution_count": null,
   "id": "c54f2a46",
   "metadata": {
    "scrolled": true
   },
   "outputs": [
    {
     "data": {
      "text/plain": [
       "array([[-31.19753086],\n",
       "       [-30.19753086],\n",
       "       [-29.19753086],\n",
       "       [-29.19753086],\n",
       "       [-28.19753086],\n",
       "       [-28.19753086],\n",
       "       [-28.19753086],\n",
       "       [-27.19753086],\n",
       "       [-26.19753086],\n",
       "       [-26.19753086],\n",
       "       [-26.19753086],\n",
       "       [-24.19753086],\n",
       "       [-24.19753086],\n",
       "       [-23.19753086],\n",
       "       [-23.19753086],\n",
       "       [-23.19753086],\n",
       "       [-21.19753086],\n",
       "       [-20.19753086],\n",
       "       [-20.19753086],\n",
       "       [-19.19753086],\n",
       "       [-18.19753086],\n",
       "       [-18.19753086],\n",
       "       [-17.19753086],\n",
       "       [-17.19753086],\n",
       "       [-17.19753086],\n",
       "       [-16.19753086],\n",
       "       [-16.19753086],\n",
       "       [-16.19753086],\n",
       "       [-15.19753086],\n",
       "       [-15.19753086],\n",
       "       [-15.19753086],\n",
       "       [-15.19753086],\n",
       "       [-14.19753086],\n",
       "       [-14.19753086],\n",
       "       [-13.19753086],\n",
       "       [-13.19753086],\n",
       "       [-13.19753086],\n",
       "       [-13.19753086],\n",
       "       [-12.19753086],\n",
       "       [-11.19753086],\n",
       "       [-11.19753086],\n",
       "       [-10.19753086],\n",
       "       [-10.19753086],\n",
       "       [ -9.19753086],\n",
       "       [ -9.19753086],\n",
       "       [ -8.19753086],\n",
       "       [ -8.19753086],\n",
       "       [ -7.19753086],\n",
       "       [ -3.19753086],\n",
       "       [ -7.19753086],\n",
       "       [ -6.19753086],\n",
       "       [ -5.19753086],\n",
       "       [ -5.19753086],\n",
       "       [ -5.19753086],\n",
       "       [ -4.19753086],\n",
       "       [ -3.19753086],\n",
       "       [ -3.19753086],\n",
       "       [ -2.19753086],\n",
       "       [ -2.19753086],\n",
       "       [ -3.19753086],\n",
       "       [ -3.19753086],\n",
       "       [ -3.19753086],\n",
       "       [ -2.19753086],\n",
       "       [ -1.19753086],\n",
       "       [ -1.19753086],\n",
       "       [ -0.19753086],\n",
       "       [  1.80246914],\n",
       "       [  1.80246914],\n",
       "       [  2.80246914],\n",
       "       [  3.80246914],\n",
       "       [  2.80246914],\n",
       "       [  3.80246914],\n",
       "       [  4.80246914],\n",
       "       [  5.80246914],\n",
       "       [  0.80246914],\n",
       "       [  0.80246914],\n",
       "       [ -0.19753086],\n",
       "       [  2.80246914],\n",
       "       [  2.80246914],\n",
       "       [  3.80246914],\n",
       "       [  4.80246914],\n",
       "       [  0.80246914],\n",
       "       [  5.80246914],\n",
       "       [  6.80246914],\n",
       "       [  8.80246914],\n",
       "       [  9.80246914],\n",
       "       [  4.80246914],\n",
       "       [  4.80246914],\n",
       "       [  5.80246914],\n",
       "       [  1.80246914],\n",
       "       [  4.80246914],\n",
       "       [  5.80246914],\n",
       "       [  5.80246914],\n",
       "       [  4.80246914],\n",
       "       [  6.80246914],\n",
       "       [  7.80246914],\n",
       "       [  9.80246914],\n",
       "       [ 10.80246914],\n",
       "       [  8.80246914],\n",
       "       [  7.80246914],\n",
       "       [  7.80246914],\n",
       "       [  9.80246914],\n",
       "       [  9.80246914],\n",
       "       [  7.80246914],\n",
       "       [  9.80246914],\n",
       "       [ 11.80246914],\n",
       "       [  3.80246914],\n",
       "       [ 12.80246914],\n",
       "       [ 10.80246914],\n",
       "       [ 12.80246914],\n",
       "       [  5.80246914],\n",
       "       [  7.80246914],\n",
       "       [ 11.80246914],\n",
       "       [ 12.80246914],\n",
       "       [ 12.80246914],\n",
       "       [  9.80246914],\n",
       "       [  8.80246914],\n",
       "       [  7.80246914],\n",
       "       [ 11.80246914],\n",
       "       [  8.80246914],\n",
       "       [  9.80246914],\n",
       "       [ 11.80246914],\n",
       "       [ 13.80246914],\n",
       "       [ 14.80246914],\n",
       "       [ 14.80246914],\n",
       "       [ 15.80246914],\n",
       "       [  9.80246914],\n",
       "       [ 13.80246914],\n",
       "       [ 13.80246914],\n",
       "       [ 12.80246914],\n",
       "       [ 10.80246914],\n",
       "       [ 14.80246914],\n",
       "       [ 11.80246914],\n",
       "       [ 14.80246914],\n",
       "       [ 14.80246914],\n",
       "       [ 14.80246914],\n",
       "       [  9.80246914],\n",
       "       [ 10.80246914],\n",
       "       [ 11.80246914],\n",
       "       [ 14.80246914],\n",
       "       [ 15.80246914],\n",
       "       [ 13.80246914],\n",
       "       [ 15.80246914],\n",
       "       [ 14.80246914],\n",
       "       [ 15.80246914],\n",
       "       [ 14.80246914],\n",
       "       [ 12.80246914],\n",
       "       [ 14.80246914],\n",
       "       [ 13.80246914],\n",
       "       [ 14.80246914],\n",
       "       [ 13.80246914],\n",
       "       [ 14.80246914],\n",
       "       [ 14.80246914],\n",
       "       [ 12.80246914],\n",
       "       [ 14.80246914],\n",
       "       [ 15.80246914],\n",
       "       [ 14.80246914],\n",
       "       [ 14.80246914],\n",
       "       [ 14.80246914],\n",
       "       [ 15.80246914],\n",
       "       [ 15.80246914],\n",
       "       [ 15.80246914]])"
      ]
     },
     "execution_count": 14,
     "metadata": {},
     "output_type": "execute_result"
    }
   ],
   "source": [
    "X=X-X.mean()  #we can also divide X by the standard deviation\n",
    "X"
   ]
  },
  {
   "cell_type": "code",
   "execution_count": null,
   "id": "a853ba79",
   "metadata": {},
   "outputs": [],
   "source": [
    "from tensorflow.keras.models import Sequential\n",
    "from tensorflow.keras.layers import Dense,Dropout,Input\n",
    "from tensorflow.keras.callbacks import EarlyStopping\n",
    "from tensorflow.keras.optimizers import SGD"
   ]
  },
  {
   "cell_type": "code",
   "execution_count": null,
   "id": "fbdfb52d",
   "metadata": {},
   "outputs": [],
   "source": [
    "model=Sequential()\n",
    "model.add(Dense(1,input_dim=1))\n",
    "model.add(Dense(1))"
   ]
  },
  {
   "cell_type": "code",
   "execution_count": null,
   "id": "bdc75879",
   "metadata": {},
   "outputs": [],
   "source": [
    "model.compile(optimizer=SGD(0.001,0.9),loss='mse')"
   ]
  },
  {
   "cell_type": "code",
   "execution_count": null,
   "id": "537ddcf8",
   "metadata": {},
   "outputs": [],
   "source": [
    "#SGD(0.001,0.9)"
   ]
  },
  {
   "cell_type": "markdown",
   "id": "1290bdb7",
   "metadata": {},
   "source": [
    "## when the default optimizer dont work we should create a default callback to prevent overfitting"
   ]
  },
  {
   "cell_type": "code",
   "execution_count": null,
   "id": "9660e327",
   "metadata": {},
   "outputs": [],
   "source": [
    "def schedule(epochs,lr):\n",
    "    if epochs>=50:\n",
    "        return 0.0001\n",
    "    return 0.001"
   ]
  },
  {
   "cell_type": "code",
   "execution_count": null,
   "id": "b2ae93d3",
   "metadata": {},
   "outputs": [],
   "source": [
    "from tensorflow.keras.callbacks import LearningRateScheduler"
   ]
  },
  {
   "cell_type": "code",
   "execution_count": null,
   "id": "414c0741",
   "metadata": {},
   "outputs": [],
   "source": [
    "scheduler=LearningRateScheduler(schedule)"
   ]
  },
  {
   "cell_type": "code",
   "execution_count": null,
   "id": "542ca2f2",
   "metadata": {
    "scrolled": true
   },
   "outputs": [
    {
     "name": "stdout",
     "output_type": "stream",
     "text": [
      "Epoch 1/200\n",
      "6/6 [==============================] - 0s 2ms/step - loss: 340.9378 - lr: 0.0010\n",
      "Epoch 2/200\n",
      "6/6 [==============================] - 0s 1ms/step - loss: 283.1956 - lr: 0.0010\n",
      "Epoch 3/200\n",
      "6/6 [==============================] - 0s 2ms/step - loss: 308.5944 - lr: 0.0010\n",
      "Epoch 4/200\n",
      "6/6 [==============================] - 0s 2ms/step - loss: 238.5935 - lr: 0.0010\n",
      "Epoch 5/200\n",
      "6/6 [==============================] - 0s 2ms/step - loss: 119.6458 - lr: 0.0010\n",
      "Epoch 6/200\n",
      "6/6 [==============================] - 0s 2ms/step - loss: 39.0536 - lr: 0.0010\n",
      "Epoch 7/200\n",
      "6/6 [==============================] - 0s 2ms/step - loss: 55.7051 - lr: 0.0010\n",
      "Epoch 8/200\n",
      "6/6 [==============================] - 0s 2ms/step - loss: 28.1659 - lr: 0.0010\n",
      "Epoch 9/200\n",
      "6/6 [==============================] - 0s 2ms/step - loss: 38.2444 - lr: 0.0010\n",
      "Epoch 10/200\n",
      "6/6 [==============================] - 0s 2ms/step - loss: 7.2624 - lr: 0.0010\n",
      "Epoch 11/200\n",
      "6/6 [==============================] - 0s 2ms/step - loss: 18.7007 - lr: 0.0010\n",
      "Epoch 12/200\n",
      "6/6 [==============================] - 0s 2ms/step - loss: 15.5685 - lr: 0.0010\n",
      "Epoch 13/200\n",
      "6/6 [==============================] - 0s 2ms/step - loss: 6.4031 - lr: 0.0010\n",
      "Epoch 14/200\n",
      "6/6 [==============================] - 0s 2ms/step - loss: 3.6021 - lr: 0.0010\n",
      "Epoch 15/200\n",
      "6/6 [==============================] - 0s 2ms/step - loss: 3.3437 - lr: 0.0010\n",
      "Epoch 16/200\n",
      "6/6 [==============================] - 0s 2ms/step - loss: 3.0673 - lr: 0.0010\n",
      "Epoch 17/200\n",
      "6/6 [==============================] - 0s 2ms/step - loss: 1.6613 - lr: 0.0010\n",
      "Epoch 18/200\n",
      "6/6 [==============================] - 0s 2ms/step - loss: 2.1127 - lr: 0.0010\n",
      "Epoch 19/200\n",
      "6/6 [==============================] - 0s 2ms/step - loss: 1.4171 - lr: 0.0010\n",
      "Epoch 20/200\n",
      "6/6 [==============================] - 0s 2ms/step - loss: 1.3391 - lr: 0.0010\n",
      "Epoch 21/200\n",
      "6/6 [==============================] - 0s 1ms/step - loss: 0.9082 - lr: 0.0010\n",
      "Epoch 22/200\n",
      "6/6 [==============================] - 0s 1ms/step - loss: 0.9246 - lr: 0.0010\n",
      "Epoch 23/200\n",
      "6/6 [==============================] - 0s 2ms/step - loss: 0.8826 - lr: 0.0010\n",
      "Epoch 24/200\n",
      "6/6 [==============================] - 0s 2ms/step - loss: 0.8905 - lr: 0.0010\n",
      "Epoch 25/200\n",
      "6/6 [==============================] - 0s 2ms/step - loss: 0.9041 - lr: 0.0010\n",
      "Epoch 26/200\n",
      "6/6 [==============================] - 0s 2ms/step - loss: 1.1327 - lr: 0.0010\n",
      "Epoch 27/200\n",
      "6/6 [==============================] - 0s 2ms/step - loss: 1.0647 - lr: 0.0010\n",
      "Epoch 28/200\n",
      "6/6 [==============================] - 0s 2ms/step - loss: 0.9929 - lr: 0.0010\n",
      "Epoch 29/200\n",
      "6/6 [==============================] - 0s 2ms/step - loss: 0.9896 - lr: 0.0010\n",
      "Epoch 30/200\n",
      "6/6 [==============================] - 0s 2ms/step - loss: 0.9561 - lr: 0.0010\n",
      "Epoch 31/200\n",
      "6/6 [==============================] - 0s 2ms/step - loss: 0.9209 - lr: 0.0010\n",
      "Epoch 32/200\n",
      "6/6 [==============================] - 0s 2ms/step - loss: 1.0289 - lr: 0.0010\n",
      "Epoch 33/200\n",
      "6/6 [==============================] - 0s 2ms/step - loss: 0.9440 - lr: 0.0010\n",
      "Epoch 34/200\n",
      "6/6 [==============================] - 0s 2ms/step - loss: 1.1005 - lr: 0.0010\n",
      "Epoch 35/200\n",
      "6/6 [==============================] - 0s 2ms/step - loss: 1.3076 - lr: 0.0010\n",
      "Epoch 36/200\n",
      "6/6 [==============================] - 0s 2ms/step - loss: 1.4650 - lr: 0.0010\n",
      "Epoch 37/200\n",
      "6/6 [==============================] - 0s 1ms/step - loss: 1.0531 - lr: 0.0010\n",
      "Epoch 38/200\n",
      "6/6 [==============================] - 0s 2ms/step - loss: 1.5335 - lr: 0.0010\n",
      "Epoch 39/200\n",
      "6/6 [==============================] - 0s 2ms/step - loss: 1.3473 - lr: 0.0010\n",
      "Epoch 40/200\n",
      "6/6 [==============================] - 0s 2ms/step - loss: 1.3954 - lr: 0.0010\n",
      "Epoch 41/200\n",
      "6/6 [==============================] - 0s 2ms/step - loss: 1.5217 - lr: 0.0010\n",
      "Epoch 42/200\n",
      "6/6 [==============================] - 0s 1ms/step - loss: 1.4132 - lr: 0.0010\n",
      "Epoch 43/200\n",
      "6/6 [==============================] - 0s 2ms/step - loss: 1.7117 - lr: 0.0010\n",
      "Epoch 44/200\n",
      "6/6 [==============================] - 0s 2ms/step - loss: 2.7110 - lr: 0.0010\n",
      "Epoch 45/200\n",
      "6/6 [==============================] - 0s 2ms/step - loss: 3.2988 - lr: 0.0010\n",
      "Epoch 46/200\n",
      "6/6 [==============================] - 0s 2ms/step - loss: 4.7891 - lr: 0.0010\n",
      "Epoch 47/200\n",
      "6/6 [==============================] - 0s 2ms/step - loss: 2.1658 - lr: 0.0010\n",
      "Epoch 48/200\n",
      "6/6 [==============================] - 0s 2ms/step - loss: 3.2313 - lr: 0.0010\n",
      "Epoch 49/200\n",
      "6/6 [==============================] - 0s 2ms/step - loss: 1.8977 - lr: 0.0010\n",
      "Epoch 50/200\n",
      "6/6 [==============================] - 0s 2ms/step - loss: 1.4944 - lr: 0.0010\n",
      "Epoch 51/200\n",
      "6/6 [==============================] - 0s 2ms/step - loss: 1.7814 - lr: 1.0000e-04\n",
      "Epoch 52/200\n",
      "6/6 [==============================] - 0s 2ms/step - loss: 2.3857 - lr: 1.0000e-04\n",
      "Epoch 53/200\n",
      "6/6 [==============================] - 0s 2ms/step - loss: 1.1654 - lr: 1.0000e-04\n",
      "Epoch 54/200\n",
      "6/6 [==============================] - 0s 1ms/step - loss: 1.0909 - lr: 1.0000e-04\n",
      "Epoch 55/200\n",
      "6/6 [==============================] - 0s 2ms/step - loss: 0.9958 - lr: 1.0000e-04\n",
      "Epoch 56/200\n",
      "6/6 [==============================] - 0s 2ms/step - loss: 0.9127 - lr: 1.0000e-04\n",
      "Epoch 57/200\n",
      "6/6 [==============================] - 0s 2ms/step - loss: 0.9591 - lr: 1.0000e-04\n",
      "Epoch 58/200\n",
      "6/6 [==============================] - 0s 2ms/step - loss: 1.0951 - lr: 1.0000e-04\n",
      "Epoch 59/200\n",
      "6/6 [==============================] - 0s 2ms/step - loss: 0.9150 - lr: 1.0000e-04\n",
      "Epoch 60/200\n",
      "6/6 [==============================] - 0s 2ms/step - loss: 0.9473 - lr: 1.0000e-04\n",
      "Epoch 61/200\n",
      "6/6 [==============================] - 0s 2ms/step - loss: 0.8747 - lr: 1.0000e-04\n",
      "Epoch 62/200\n",
      "6/6 [==============================] - 0s 2ms/step - loss: 0.9899 - lr: 1.0000e-04\n",
      "Epoch 63/200\n",
      "6/6 [==============================] - 0s 2ms/step - loss: 0.9411 - lr: 1.0000e-04\n",
      "Epoch 64/200\n",
      "6/6 [==============================] - 0s 2ms/step - loss: 0.9129 - lr: 1.0000e-04\n",
      "Epoch 65/200\n",
      "6/6 [==============================] - 0s 2ms/step - loss: 0.9373 - lr: 1.0000e-04\n",
      "Epoch 66/200\n",
      "6/6 [==============================] - 0s 2ms/step - loss: 0.8708 - lr: 1.0000e-04\n",
      "Epoch 67/200\n",
      "6/6 [==============================] - 0s 2ms/step - loss: 0.9016 - lr: 1.0000e-04\n",
      "Epoch 68/200\n",
      "6/6 [==============================] - 0s 2ms/step - loss: 0.8944 - lr: 1.0000e-04\n",
      "Epoch 69/200\n",
      "6/6 [==============================] - 0s 2ms/step - loss: 0.8815 - lr: 1.0000e-04\n",
      "Epoch 70/200\n",
      "6/6 [==============================] - 0s 2ms/step - loss: 0.8728 - lr: 1.0000e-04\n",
      "Epoch 71/200\n",
      "6/6 [==============================] - 0s 2ms/step - loss: 0.8818 - lr: 1.0000e-04\n",
      "Epoch 72/200\n",
      "6/6 [==============================] - 0s 2ms/step - loss: 0.9074 - lr: 1.0000e-04\n",
      "Epoch 73/200\n",
      "6/6 [==============================] - 0s 2ms/step - loss: 0.8904 - lr: 1.0000e-04\n",
      "Epoch 74/200\n",
      "6/6 [==============================] - 0s 2ms/step - loss: 0.8992 - lr: 1.0000e-04\n",
      "Epoch 75/200\n",
      "6/6 [==============================] - 0s 2ms/step - loss: 0.8901 - lr: 1.0000e-04\n",
      "Epoch 76/200\n",
      "6/6 [==============================] - 0s 2ms/step - loss: 0.8882 - lr: 1.0000e-04\n",
      "Epoch 77/200\n",
      "6/6 [==============================] - 0s 2ms/step - loss: 0.8810 - lr: 1.0000e-04\n",
      "Epoch 78/200\n",
      "6/6 [==============================] - 0s 2ms/step - loss: 0.8950 - lr: 1.0000e-04\n",
      "Epoch 79/200\n",
      "6/6 [==============================] - 0s 2ms/step - loss: 0.8735 - lr: 1.0000e-04\n",
      "Epoch 80/200\n",
      "6/6 [==============================] - 0s 2ms/step - loss: 0.8792 - lr: 1.0000e-04\n",
      "Epoch 81/200\n",
      "6/6 [==============================] - 0s 2ms/step - loss: 0.8826 - lr: 1.0000e-04\n",
      "Epoch 82/200\n",
      "6/6 [==============================] - 0s 2ms/step - loss: 0.8898 - lr: 1.0000e-04\n",
      "Epoch 83/200\n",
      "6/6 [==============================] - 0s 2ms/step - loss: 0.8716 - lr: 1.0000e-04\n",
      "Epoch 84/200\n",
      "6/6 [==============================] - 0s 2ms/step - loss: 0.8749 - lr: 1.0000e-04\n",
      "Epoch 85/200\n",
      "6/6 [==============================] - 0s 2ms/step - loss: 0.8734 - lr: 1.0000e-04\n",
      "Epoch 86/200\n",
      "6/6 [==============================] - 0s 2ms/step - loss: 0.8751 - lr: 1.0000e-04\n",
      "Epoch 87/200\n",
      "6/6 [==============================] - 0s 2ms/step - loss: 0.8918 - lr: 1.0000e-04\n",
      "Epoch 88/200\n"
     ]
    },
    {
     "name": "stdout",
     "output_type": "stream",
     "text": [
      "6/6 [==============================] - 0s 2ms/step - loss: 0.8791 - lr: 1.0000e-04\n",
      "Epoch 89/200\n",
      "6/6 [==============================] - 0s 2ms/step - loss: 0.8809 - lr: 1.0000e-04\n",
      "Epoch 90/200\n",
      "6/6 [==============================] - 0s 2ms/step - loss: 0.8846 - lr: 1.0000e-04\n",
      "Epoch 91/200\n",
      "6/6 [==============================] - 0s 2ms/step - loss: 0.8725 - lr: 1.0000e-04\n",
      "Epoch 92/200\n",
      "6/6 [==============================] - 0s 2ms/step - loss: 0.8928 - lr: 1.0000e-04\n",
      "Epoch 93/200\n",
      "6/6 [==============================] - 0s 2ms/step - loss: 0.9000 - lr: 1.0000e-04\n",
      "Epoch 94/200\n",
      "6/6 [==============================] - 0s 2ms/step - loss: 0.9313 - lr: 1.0000e-04\n",
      "Epoch 95/200\n",
      "6/6 [==============================] - 0s 2ms/step - loss: 1.0054 - lr: 1.0000e-04\n",
      "Epoch 96/200\n",
      "6/6 [==============================] - 0s 2ms/step - loss: 0.9053 - lr: 1.0000e-04\n",
      "Epoch 97/200\n",
      "6/6 [==============================] - 0s 2ms/step - loss: 0.8947 - lr: 1.0000e-04\n",
      "Epoch 98/200\n",
      "6/6 [==============================] - 0s 2ms/step - loss: 0.8930 - lr: 1.0000e-04\n",
      "Epoch 99/200\n",
      "6/6 [==============================] - 0s 2ms/step - loss: 0.8715 - lr: 1.0000e-04\n",
      "Epoch 100/200\n",
      "6/6 [==============================] - 0s 2ms/step - loss: 0.8891 - lr: 1.0000e-04\n",
      "Epoch 101/200\n",
      "6/6 [==============================] - 0s 2ms/step - loss: 0.8768 - lr: 1.0000e-04\n",
      "Epoch 102/200\n",
      "6/6 [==============================] - 0s 2ms/step - loss: 0.8780 - lr: 1.0000e-04\n",
      "Epoch 103/200\n",
      "6/6 [==============================] - 0s 2ms/step - loss: 0.8797 - lr: 1.0000e-04\n",
      "Epoch 104/200\n",
      "6/6 [==============================] - 0s 2ms/step - loss: 0.8813 - lr: 1.0000e-04\n",
      "Epoch 105/200\n",
      "6/6 [==============================] - 0s 2ms/step - loss: 0.8853 - lr: 1.0000e-04\n",
      "Epoch 106/200\n",
      "6/6 [==============================] - 0s 2ms/step - loss: 0.8837 - lr: 1.0000e-04\n",
      "Epoch 107/200\n",
      "6/6 [==============================] - 0s 2ms/step - loss: 0.9001 - lr: 1.0000e-04\n",
      "Epoch 108/200\n",
      "6/6 [==============================] - 0s 2ms/step - loss: 0.8799 - lr: 1.0000e-04\n",
      "Epoch 109/200\n",
      "6/6 [==============================] - 0s 2ms/step - loss: 0.8882 - lr: 1.0000e-04\n",
      "Epoch 110/200\n",
      "6/6 [==============================] - 0s 2ms/step - loss: 0.8742 - lr: 1.0000e-04\n",
      "Epoch 111/200\n",
      "6/6 [==============================] - 0s 2ms/step - loss: 0.8885 - lr: 1.0000e-04\n",
      "Epoch 112/200\n",
      "6/6 [==============================] - 0s 2ms/step - loss: 0.8830 - lr: 1.0000e-04\n",
      "Epoch 113/200\n",
      "6/6 [==============================] - 0s 2ms/step - loss: 0.9018 - lr: 1.0000e-04\n",
      "Epoch 114/200\n",
      "6/6 [==============================] - 0s 2ms/step - loss: 0.8787 - lr: 1.0000e-04\n",
      "Epoch 115/200\n",
      "6/6 [==============================] - 0s 2ms/step - loss: 0.9212 - lr: 1.0000e-04\n",
      "Epoch 116/200\n",
      "6/6 [==============================] - 0s 2ms/step - loss: 0.8970 - lr: 1.0000e-04\n",
      "Epoch 117/200\n",
      "6/6 [==============================] - 0s 2ms/step - loss: 0.8721 - lr: 1.0000e-04\n",
      "Epoch 118/200\n",
      "6/6 [==============================] - 0s 2ms/step - loss: 0.8810 - lr: 1.0000e-04\n",
      "Epoch 119/200\n",
      "6/6 [==============================] - 0s 2ms/step - loss: 0.8904 - lr: 1.0000e-04\n",
      "Epoch 120/200\n",
      "6/6 [==============================] - 0s 2ms/step - loss: 0.8723 - lr: 1.0000e-04\n",
      "Epoch 121/200\n",
      "6/6 [==============================] - 0s 2ms/step - loss: 0.8800 - lr: 1.0000e-04\n",
      "Epoch 122/200\n",
      "6/6 [==============================] - 0s 2ms/step - loss: 0.8785 - lr: 1.0000e-04\n",
      "Epoch 123/200\n",
      "6/6 [==============================] - 0s 2ms/step - loss: 0.8871 - lr: 1.0000e-04\n",
      "Epoch 124/200\n",
      "6/6 [==============================] - 0s 2ms/step - loss: 0.9427 - lr: 1.0000e-04\n",
      "Epoch 125/200\n",
      "6/6 [==============================] - 0s 2ms/step - loss: 0.9111 - lr: 1.0000e-04\n",
      "Epoch 126/200\n",
      "6/6 [==============================] - 0s 2ms/step - loss: 0.8718 - lr: 1.0000e-04\n",
      "Epoch 127/200\n",
      "6/6 [==============================] - 0s 2ms/step - loss: 0.8743 - lr: 1.0000e-04\n",
      "Epoch 128/200\n",
      "6/6 [==============================] - 0s 2ms/step - loss: 0.8703 - lr: 1.0000e-04\n",
      "Epoch 129/200\n",
      "6/6 [==============================] - 0s 2ms/step - loss: 0.8717 - lr: 1.0000e-04\n",
      "Epoch 130/200\n",
      "6/6 [==============================] - 0s 2ms/step - loss: 0.8811 - lr: 1.0000e-04\n",
      "Epoch 131/200\n",
      "6/6 [==============================] - 0s 2ms/step - loss: 0.8705 - lr: 1.0000e-04\n",
      "Epoch 132/200\n",
      "6/6 [==============================] - 0s 2ms/step - loss: 0.9123 - lr: 1.0000e-04\n",
      "Epoch 133/200\n",
      "6/6 [==============================] - 0s 2ms/step - loss: 0.8932 - lr: 1.0000e-04\n",
      "Epoch 134/200\n",
      "6/6 [==============================] - 0s 2ms/step - loss: 0.8722 - lr: 1.0000e-04\n",
      "Epoch 135/200\n",
      "6/6 [==============================] - 0s 2ms/step - loss: 0.8714 - lr: 1.0000e-04\n",
      "Epoch 136/200\n",
      "6/6 [==============================] - 0s 2ms/step - loss: 0.9296 - lr: 1.0000e-04\n",
      "Epoch 137/200\n",
      "6/6 [==============================] - 0s 2ms/step - loss: 0.9029 - lr: 1.0000e-04\n",
      "Epoch 138/200\n",
      "6/6 [==============================] - 0s 2ms/step - loss: 0.8966 - lr: 1.0000e-04\n",
      "Epoch 139/200\n",
      "6/6 [==============================] - 0s 2ms/step - loss: 0.8787 - lr: 1.0000e-04\n",
      "Epoch 140/200\n",
      "6/6 [==============================] - 0s 2ms/step - loss: 0.8754 - lr: 1.0000e-04\n",
      "Epoch 141/200\n",
      "6/6 [==============================] - 0s 2ms/step - loss: 0.8735 - lr: 1.0000e-04\n",
      "Epoch 142/200\n",
      "6/6 [==============================] - 0s 2ms/step - loss: 0.8734 - lr: 1.0000e-04\n",
      "Epoch 143/200\n",
      "6/6 [==============================] - 0s 2ms/step - loss: 0.8932 - lr: 1.0000e-04\n",
      "Epoch 144/200\n",
      "6/6 [==============================] - 0s 2ms/step - loss: 0.9027 - lr: 1.0000e-04\n",
      "Epoch 145/200\n",
      "6/6 [==============================] - 0s 2ms/step - loss: 0.8807 - lr: 1.0000e-04\n",
      "Epoch 146/200\n",
      "6/6 [==============================] - 0s 2ms/step - loss: 0.8771 - lr: 1.0000e-04\n",
      "Epoch 147/200\n",
      "6/6 [==============================] - 0s 2ms/step - loss: 0.8751 - lr: 1.0000e-04\n",
      "Epoch 148/200\n",
      "6/6 [==============================] - 0s 2ms/step - loss: 0.8817 - lr: 1.0000e-04\n",
      "Epoch 149/200\n",
      "6/6 [==============================] - 0s 2ms/step - loss: 0.8744 - lr: 1.0000e-04\n",
      "Epoch 150/200\n",
      "6/6 [==============================] - 0s 2ms/step - loss: 0.8816 - lr: 1.0000e-04\n",
      "Epoch 151/200\n",
      "6/6 [==============================] - 0s 2ms/step - loss: 0.8764 - lr: 1.0000e-04\n",
      "Epoch 152/200\n",
      "6/6 [==============================] - 0s 2ms/step - loss: 0.8974 - lr: 1.0000e-04\n",
      "Epoch 153/200\n",
      "6/6 [==============================] - 0s 2ms/step - loss: 0.9184 - lr: 1.0000e-04\n",
      "Epoch 154/200\n",
      "6/6 [==============================] - 0s 2ms/step - loss: 0.9255 - lr: 1.0000e-04\n",
      "Epoch 155/200\n",
      "6/6 [==============================] - 0s 2ms/step - loss: 0.8741 - lr: 1.0000e-04\n",
      "Epoch 156/200\n",
      "6/6 [==============================] - 0s 2ms/step - loss: 0.8827 - lr: 1.0000e-04\n",
      "Epoch 157/200\n",
      "6/6 [==============================] - 0s 2ms/step - loss: 0.8673 - lr: 1.0000e-04\n",
      "Epoch 158/200\n",
      "6/6 [==============================] - 0s 2ms/step - loss: 0.8753 - lr: 1.0000e-04\n",
      "Epoch 159/200\n",
      "6/6 [==============================] - 0s 2ms/step - loss: 0.8965 - lr: 1.0000e-04\n",
      "Epoch 160/200\n",
      "6/6 [==============================] - 0s 2ms/step - loss: 0.8936 - lr: 1.0000e-04\n",
      "Epoch 161/200\n",
      "6/6 [==============================] - 0s 2ms/step - loss: 0.8802 - lr: 1.0000e-04\n",
      "Epoch 162/200\n",
      "6/6 [==============================] - 0s 2ms/step - loss: 0.8763 - lr: 1.0000e-04\n",
      "Epoch 163/200\n",
      "6/6 [==============================] - 0s 2ms/step - loss: 0.8760 - lr: 1.0000e-04\n",
      "Epoch 164/200\n",
      "6/6 [==============================] - 0s 2ms/step - loss: 0.8741 - lr: 1.0000e-04\n",
      "Epoch 165/200\n",
      "6/6 [==============================] - 0s 2ms/step - loss: 0.8920 - lr: 1.0000e-04\n",
      "Epoch 166/200\n",
      "6/6 [==============================] - 0s 2ms/step - loss: 0.8934 - lr: 1.0000e-04\n",
      "Epoch 167/200\n",
      "6/6 [==============================] - 0s 2ms/step - loss: 0.8862 - lr: 1.0000e-04\n",
      "Epoch 168/200\n",
      "6/6 [==============================] - 0s 2ms/step - loss: 0.8737 - lr: 1.0000e-04\n",
      "Epoch 169/200\n",
      "6/6 [==============================] - 0s 2ms/step - loss: 0.8864 - lr: 1.0000e-04\n",
      "Epoch 170/200\n",
      "6/6 [==============================] - 0s 2ms/step - loss: 0.8773 - lr: 1.0000e-04\n",
      "Epoch 171/200\n",
      "6/6 [==============================] - 0s 2ms/step - loss: 0.8761 - lr: 1.0000e-04\n",
      "Epoch 172/200\n"
     ]
    },
    {
     "name": "stdout",
     "output_type": "stream",
     "text": [
      "6/6 [==============================] - 0s 2ms/step - loss: 0.8808 - lr: 1.0000e-04\n",
      "Epoch 173/200\n",
      "6/6 [==============================] - 0s 2ms/step - loss: 0.9362 - lr: 1.0000e-04\n",
      "Epoch 174/200\n",
      "6/6 [==============================] - 0s 2ms/step - loss: 0.9103 - lr: 1.0000e-04\n",
      "Epoch 175/200\n",
      "6/6 [==============================] - 0s 2ms/step - loss: 0.8784 - lr: 1.0000e-04\n",
      "Epoch 176/200\n",
      "6/6 [==============================] - 0s 2ms/step - loss: 0.8768 - lr: 1.0000e-04\n",
      "Epoch 177/200\n",
      "6/6 [==============================] - 0s 2ms/step - loss: 0.8741 - lr: 1.0000e-04\n",
      "Epoch 178/200\n",
      "6/6 [==============================] - 0s 2ms/step - loss: 0.8763 - lr: 1.0000e-04\n",
      "Epoch 179/200\n",
      "6/6 [==============================] - 0s 2ms/step - loss: 0.8800 - lr: 1.0000e-04\n",
      "Epoch 180/200\n",
      "6/6 [==============================] - 0s 2ms/step - loss: 0.8726 - lr: 1.0000e-04\n",
      "Epoch 181/200\n",
      "6/6 [==============================] - 0s 2ms/step - loss: 0.8671 - lr: 1.0000e-04\n",
      "Epoch 182/200\n",
      "6/6 [==============================] - 0s 2ms/step - loss: 0.8941 - lr: 1.0000e-04\n",
      "Epoch 183/200\n",
      "6/6 [==============================] - 0s 2ms/step - loss: 0.8777 - lr: 1.0000e-04\n",
      "Epoch 184/200\n",
      "6/6 [==============================] - 0s 2ms/step - loss: 0.8719 - lr: 1.0000e-04\n",
      "Epoch 185/200\n",
      "6/6 [==============================] - 0s 2ms/step - loss: 0.8827 - lr: 1.0000e-04\n",
      "Epoch 186/200\n",
      "6/6 [==============================] - 0s 2ms/step - loss: 0.9198 - lr: 1.0000e-04\n",
      "Epoch 187/200\n",
      "6/6 [==============================] - 0s 2ms/step - loss: 0.9140 - lr: 1.0000e-04\n",
      "Epoch 188/200\n",
      "6/6 [==============================] - 0s 2ms/step - loss: 0.8800 - lr: 1.0000e-04\n",
      "Epoch 189/200\n",
      "6/6 [==============================] - 0s 2ms/step - loss: 0.8909 - lr: 1.0000e-04\n",
      "Epoch 190/200\n",
      "6/6 [==============================] - 0s 2ms/step - loss: 0.8778 - lr: 1.0000e-04\n",
      "Epoch 191/200\n",
      "6/6 [==============================] - 0s 2ms/step - loss: 0.9076 - lr: 1.0000e-04\n",
      "Epoch 192/200\n",
      "6/6 [==============================] - 0s 2ms/step - loss: 0.8747 - lr: 1.0000e-04\n",
      "Epoch 193/200\n",
      "6/6 [==============================] - 0s 2ms/step - loss: 0.9253 - lr: 1.0000e-04\n",
      "Epoch 194/200\n",
      "6/6 [==============================] - 0s 2ms/step - loss: 0.9048 - lr: 1.0000e-04\n",
      "Epoch 195/200\n",
      "6/6 [==============================] - 0s 2ms/step - loss: 0.8751 - lr: 1.0000e-04\n",
      "Epoch 196/200\n",
      "6/6 [==============================] - 0s 2ms/step - loss: 0.8705 - lr: 1.0000e-04\n",
      "Epoch 197/200\n",
      "6/6 [==============================] - 0s 2ms/step - loss: 0.9042 - lr: 1.0000e-04\n",
      "Epoch 198/200\n",
      "6/6 [==============================] - 0s 2ms/step - loss: 0.8761 - lr: 1.0000e-04\n",
      "Epoch 199/200\n",
      "6/6 [==============================] - 0s 2ms/step - loss: 0.8730 - lr: 1.0000e-04\n",
      "Epoch 200/200\n",
      "6/6 [==============================] - 0s 2ms/step - loss: 0.8915 - lr: 1.0000e-04\n"
     ]
    },
    {
     "data": {
      "text/plain": [
       "<keras.callbacks.History at 0x1a8fceb1780>"
      ]
     },
     "execution_count": 22,
     "metadata": {},
     "output_type": "execute_result"
    }
   ],
   "source": [
    "model.fit(X,y,epochs=200,callbacks=[scheduler])"
   ]
  },
  {
   "cell_type": "code",
   "execution_count": null,
   "id": "8bff6f38",
   "metadata": {},
   "outputs": [],
   "source": [
    "losses=pd.DataFrame(model.history.history)"
   ]
  },
  {
   "cell_type": "code",
   "execution_count": null,
   "id": "1dff2171",
   "metadata": {},
   "outputs": [
    {
     "data": {
      "text/plain": [
       "<Axes: >"
      ]
     },
     "execution_count": 24,
     "metadata": {},
     "output_type": "execute_result"
    },
    {
     "data": {
      "image/png": "[encoded data removed]",
      "text/plain": [
       "<Figure size 640x480 with 1 Axes>"
      ]
     },
     "metadata": {},
     "output_type": "display_data"
    }
   ],
   "source": [
    "losses.plot()"
   ]
  },
  {
   "cell_type": "code",
   "execution_count": null,
   "id": "b48fde3f",
   "metadata": {},
   "outputs": [
    {
     "data": {
      "text/plain": [
       "[<keras.layers.core.dense.Dense at 0x1a8fcd0d540>,\n",
       " <keras.layers.core.dense.Dense at 0x1a8f37d8400>]"
      ]
     },
     "execution_count": 25,
     "metadata": {},
     "output_type": "execute_result"
    }
   ],
   "source": [
    "model.layers"
   ]
  },
  {
   "cell_type": "code",
   "execution_count": null,
   "id": "b780531f",
   "metadata": {},
   "outputs": [
    {
     "data": {
      "text/plain": [
       "[array([[0.26693335]], dtype=float32), array([6.451559], dtype=float32)]"
      ]
     },
     "execution_count": 26,
     "metadata": {},
     "output_type": "execute_result"
    }
   ],
   "source": [
    "model.layers[0].get_weights()"
   ]
  },
  {
   "cell_type": "code",
   "execution_count": null,
   "id": "8856aa64",
   "metadata": {},
   "outputs": [],
   "source": []
  }
 ],
 "metadata": {
  "kernelspec": {
   "display_name": "Python 3 (ipykernel)",
   "language": "python",
   "name": "python3"
  },
  "language_info": {
   "codemirror_mode": {
    "name": "ipython",
    "version": 3
   },
   "file_extension": ".py",
   "mimetype": "text/x-python",
   "name": "python",
   "nbconvert_exporter": "python",
   "pygments_lexer": "ipython3",
   "version": "3.10.13"
  }
 },
 "nbformat": 4,
 "nbformat_minor": 5
}
